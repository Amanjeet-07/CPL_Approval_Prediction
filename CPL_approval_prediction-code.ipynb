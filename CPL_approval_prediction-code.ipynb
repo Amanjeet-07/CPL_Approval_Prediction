{
 "cells": [
  {
   "cell_type": "code",
   "execution_count": 1,
   "metadata": {},
   "outputs": [],
   "source": [
    "# import the required libraries\n",
    "\n",
    "import numpy as np\n",
    "import pandas as pd\n",
    "import matplotlib.pyplot as plt\n",
    "import seaborn as sns"
   ]
  },
  {
   "cell_type": "code",
   "execution_count": 2,
   "metadata": {},
   "outputs": [],
   "source": [
    "# read and have a look at the dataset \n",
    "df_train = pd.read_excel('Project - 4 - Train Data.xlsx')\n",
    "df_test = pd.read_excel('Project - 4 - Test Data.xlsx')"
   ]
  },
  {
   "cell_type": "code",
   "execution_count": 3,
   "metadata": {},
   "outputs": [
    {
     "name": "stdout",
     "output_type": "stream",
     "text": [
      "(614, 20)\n",
      "(367, 19)\n"
     ]
    }
   ],
   "source": [
    "print(df_train.shape)\n",
    "print(df_test.shape)"
   ]
  },
  {
   "cell_type": "code",
   "execution_count": 4,
   "metadata": {},
   "outputs": [
    {
     "data": {
      "text/html": [
       "<div>\n",
       "<style scoped>\n",
       "    .dataframe tbody tr th:only-of-type {\n",
       "        vertical-align: middle;\n",
       "    }\n",
       "\n",
       "    .dataframe tbody tr th {\n",
       "        vertical-align: top;\n",
       "    }\n",
       "\n",
       "    .dataframe thead th {\n",
       "        text-align: right;\n",
       "    }\n",
       "</style>\n",
       "<table border=\"1\" class=\"dataframe\">\n",
       "  <thead>\n",
       "    <tr style=\"text-align: right;\">\n",
       "      <th></th>\n",
       "      <th>Loanapp_ID</th>\n",
       "      <th>Sex</th>\n",
       "      <th>Marital_Status</th>\n",
       "      <th>first_name</th>\n",
       "      <th>last_name</th>\n",
       "      <th>email</th>\n",
       "      <th>address</th>\n",
       "      <th>Dependents</th>\n",
       "      <th>Qual_var</th>\n",
       "      <th>SE</th>\n",
       "      <th>App_Income_1</th>\n",
       "      <th>App_Income_2</th>\n",
       "      <th>CPL_Amount</th>\n",
       "      <th>CPL_Term</th>\n",
       "      <th>Credit_His</th>\n",
       "      <th>Prop_Area</th>\n",
       "      <th>INT_ID</th>\n",
       "      <th>Prev_ID</th>\n",
       "      <th>AGT_ID</th>\n",
       "      <th>CPL_Status</th>\n",
       "    </tr>\n",
       "  </thead>\n",
       "  <tbody>\n",
       "    <tr>\n",
       "      <td>0</td>\n",
       "      <td>CPL001002</td>\n",
       "      <td>M</td>\n",
       "      <td>N</td>\n",
       "      <td>Austin</td>\n",
       "      <td>Pennycook</td>\n",
       "      <td>apennycook1@mac.com</td>\n",
       "      <td>007 Miller Road</td>\n",
       "      <td>0</td>\n",
       "      <td>Grad</td>\n",
       "      <td>N</td>\n",
       "      <td>7018.8</td>\n",
       "      <td>0.0</td>\n",
       "      <td>NaN</td>\n",
       "      <td>360.0</td>\n",
       "      <td>1.0</td>\n",
       "      <td>Urban</td>\n",
       "      <td>9694176212</td>\n",
       "      <td>92-247-0058</td>\n",
       "      <td>Mozilla/5.0 (Windows; U; Windows NT 5.1; zh-TW...</td>\n",
       "      <td>Y</td>\n",
       "    </tr>\n",
       "    <tr>\n",
       "      <td>1</td>\n",
       "      <td>CPL001003</td>\n",
       "      <td>M</td>\n",
       "      <td>Y</td>\n",
       "      <td>Mareah</td>\n",
       "      <td>Tomanek</td>\n",
       "      <td>mtomanek2@bloomberg.com</td>\n",
       "      <td>145 Charing Cross Junction</td>\n",
       "      <td>1</td>\n",
       "      <td>Grad</td>\n",
       "      <td>N</td>\n",
       "      <td>5499.6</td>\n",
       "      <td>1809.6</td>\n",
       "      <td>153.6</td>\n",
       "      <td>360.0</td>\n",
       "      <td>1.0</td>\n",
       "      <td>Rural</td>\n",
       "      <td>152387684</td>\n",
       "      <td>36-236-3028</td>\n",
       "      <td>Mozilla/5.0 (Windows NT 5.1; rv:21.0) Gecko/20...</td>\n",
       "      <td>N</td>\n",
       "    </tr>\n",
       "    <tr>\n",
       "      <td>2</td>\n",
       "      <td>CPL001005</td>\n",
       "      <td>M</td>\n",
       "      <td>Y</td>\n",
       "      <td>Myrna</td>\n",
       "      <td>Rosenthaler</td>\n",
       "      <td>mrosenthaler3@dmoz.org</td>\n",
       "      <td>268 Algoma Hill</td>\n",
       "      <td>0</td>\n",
       "      <td>Grad</td>\n",
       "      <td>Y</td>\n",
       "      <td>3600.0</td>\n",
       "      <td>0.0</td>\n",
       "      <td>79.2</td>\n",
       "      <td>360.0</td>\n",
       "      <td>1.0</td>\n",
       "      <td>Urban</td>\n",
       "      <td>6510396556</td>\n",
       "      <td>34-339-0917</td>\n",
       "      <td>Mozilla/5.0 (Windows; U; Windows NT 6.1; cs-CZ...</td>\n",
       "      <td>Y</td>\n",
       "    </tr>\n",
       "    <tr>\n",
       "      <td>3</td>\n",
       "      <td>CPL001006</td>\n",
       "      <td>M</td>\n",
       "      <td>Y</td>\n",
       "      <td>Danyette</td>\n",
       "      <td>Stempe</td>\n",
       "      <td>dstempe4@tumblr.com</td>\n",
       "      <td>571 Stone Corner Park</td>\n",
       "      <td>0</td>\n",
       "      <td>Non Grad</td>\n",
       "      <td>N</td>\n",
       "      <td>3099.6</td>\n",
       "      <td>2829.6</td>\n",
       "      <td>144.0</td>\n",
       "      <td>360.0</td>\n",
       "      <td>1.0</td>\n",
       "      <td>Urban</td>\n",
       "      <td>7141853006</td>\n",
       "      <td>94-098-8902</td>\n",
       "      <td>Mozilla/5.0 (iPhone; U; CPU iPhone OS 4_2_1 li...</td>\n",
       "      <td>Y</td>\n",
       "    </tr>\n",
       "    <tr>\n",
       "      <td>4</td>\n",
       "      <td>CPL001008</td>\n",
       "      <td>M</td>\n",
       "      <td>N</td>\n",
       "      <td>Patten</td>\n",
       "      <td>McCathy</td>\n",
       "      <td>pmccathy5@ted.com</td>\n",
       "      <td>118 Moulton Drive</td>\n",
       "      <td>0</td>\n",
       "      <td>Grad</td>\n",
       "      <td>N</td>\n",
       "      <td>7200.0</td>\n",
       "      <td>0.0</td>\n",
       "      <td>169.2</td>\n",
       "      <td>360.0</td>\n",
       "      <td>1.0</td>\n",
       "      <td>Urban</td>\n",
       "      <td>23293411</td>\n",
       "      <td>38-247-1410</td>\n",
       "      <td>Mozilla/5.0 (Windows NT 6.0; WOW64) AppleWebKi...</td>\n",
       "      <td>Y</td>\n",
       "    </tr>\n",
       "  </tbody>\n",
       "</table>\n",
       "</div>"
      ],
      "text/plain": [
       "  Loanapp_ID Sex Marital_Status first_name    last_name  \\\n",
       "0  CPL001002   M              N     Austin    Pennycook   \n",
       "1  CPL001003   M              Y     Mareah      Tomanek   \n",
       "2  CPL001005   M              Y      Myrna  Rosenthaler   \n",
       "3  CPL001006   M              Y   Danyette       Stempe   \n",
       "4  CPL001008   M              N     Patten      McCathy   \n",
       "\n",
       "                     email                     address Dependents  Qual_var  \\\n",
       "0      apennycook1@mac.com             007 Miller Road          0      Grad   \n",
       "1  mtomanek2@bloomberg.com  145 Charing Cross Junction          1      Grad   \n",
       "2   mrosenthaler3@dmoz.org             268 Algoma Hill          0      Grad   \n",
       "3      dstempe4@tumblr.com       571 Stone Corner Park          0  Non Grad   \n",
       "4        pmccathy5@ted.com           118 Moulton Drive          0      Grad   \n",
       "\n",
       "  SE  App_Income_1  App_Income_2  CPL_Amount  CPL_Term  Credit_His Prop_Area  \\\n",
       "0  N        7018.8           0.0         NaN     360.0         1.0     Urban   \n",
       "1  N        5499.6        1809.6       153.6     360.0         1.0     Rural   \n",
       "2  Y        3600.0           0.0        79.2     360.0         1.0     Urban   \n",
       "3  N        3099.6        2829.6       144.0     360.0         1.0     Urban   \n",
       "4  N        7200.0           0.0       169.2     360.0         1.0     Urban   \n",
       "\n",
       "       INT_ID      Prev_ID                                             AGT_ID  \\\n",
       "0  9694176212  92-247-0058  Mozilla/5.0 (Windows; U; Windows NT 5.1; zh-TW...   \n",
       "1   152387684  36-236-3028  Mozilla/5.0 (Windows NT 5.1; rv:21.0) Gecko/20...   \n",
       "2  6510396556  34-339-0917  Mozilla/5.0 (Windows; U; Windows NT 6.1; cs-CZ...   \n",
       "3  7141853006  94-098-8902  Mozilla/5.0 (iPhone; U; CPU iPhone OS 4_2_1 li...   \n",
       "4    23293411  38-247-1410  Mozilla/5.0 (Windows NT 6.0; WOW64) AppleWebKi...   \n",
       "\n",
       "  CPL_Status  \n",
       "0          Y  \n",
       "1          N  \n",
       "2          Y  \n",
       "3          Y  \n",
       "4          Y  "
      ]
     },
     "execution_count": 4,
     "metadata": {},
     "output_type": "execute_result"
    }
   ],
   "source": [
    "df_train.head()"
   ]
  },
  {
   "cell_type": "markdown",
   "metadata": {},
   "source": [
    "# Feature Selection"
   ]
  },
  {
   "cell_type": "code",
   "execution_count": 5,
   "metadata": {},
   "outputs": [],
   "source": [
    "#drop those columns which have unique string and are not necessary for our final prediction\n",
    "\n",
    "df_train = df_train.drop(['Loanapp_ID', 'first_name', 'last_name', 'email', 'address', 'INT_ID', 'Prev_ID', 'AGT_ID'], axis = 1)\n",
    "df_test = df_test.drop(['Loanapp_ID', 'first_name', 'last_name', 'email', 'address', 'INT_ID', 'Prev_ID', 'AGT_ID'], axis = 1)"
   ]
  },
  {
   "cell_type": "code",
   "execution_count": 6,
   "metadata": {
    "scrolled": true
   },
   "outputs": [
    {
     "data": {
      "text/html": [
       "<div>\n",
       "<style scoped>\n",
       "    .dataframe tbody tr th:only-of-type {\n",
       "        vertical-align: middle;\n",
       "    }\n",
       "\n",
       "    .dataframe tbody tr th {\n",
       "        vertical-align: top;\n",
       "    }\n",
       "\n",
       "    .dataframe thead th {\n",
       "        text-align: right;\n",
       "    }\n",
       "</style>\n",
       "<table border=\"1\" class=\"dataframe\">\n",
       "  <thead>\n",
       "    <tr style=\"text-align: right;\">\n",
       "      <th></th>\n",
       "      <th>Sex</th>\n",
       "      <th>Marital_Status</th>\n",
       "      <th>Dependents</th>\n",
       "      <th>Qual_var</th>\n",
       "      <th>SE</th>\n",
       "      <th>App_Income_1</th>\n",
       "      <th>App_Income_2</th>\n",
       "      <th>CPL_Amount</th>\n",
       "      <th>CPL_Term</th>\n",
       "      <th>Credit_His</th>\n",
       "      <th>Prop_Area</th>\n",
       "      <th>CPL_Status</th>\n",
       "    </tr>\n",
       "  </thead>\n",
       "  <tbody>\n",
       "    <tr>\n",
       "      <td>0</td>\n",
       "      <td>M</td>\n",
       "      <td>N</td>\n",
       "      <td>0</td>\n",
       "      <td>Grad</td>\n",
       "      <td>N</td>\n",
       "      <td>7018.8</td>\n",
       "      <td>0.0</td>\n",
       "      <td>NaN</td>\n",
       "      <td>360.0</td>\n",
       "      <td>1.0</td>\n",
       "      <td>Urban</td>\n",
       "      <td>Y</td>\n",
       "    </tr>\n",
       "    <tr>\n",
       "      <td>1</td>\n",
       "      <td>M</td>\n",
       "      <td>Y</td>\n",
       "      <td>1</td>\n",
       "      <td>Grad</td>\n",
       "      <td>N</td>\n",
       "      <td>5499.6</td>\n",
       "      <td>1809.6</td>\n",
       "      <td>153.6</td>\n",
       "      <td>360.0</td>\n",
       "      <td>1.0</td>\n",
       "      <td>Rural</td>\n",
       "      <td>N</td>\n",
       "    </tr>\n",
       "    <tr>\n",
       "      <td>2</td>\n",
       "      <td>M</td>\n",
       "      <td>Y</td>\n",
       "      <td>0</td>\n",
       "      <td>Grad</td>\n",
       "      <td>Y</td>\n",
       "      <td>3600.0</td>\n",
       "      <td>0.0</td>\n",
       "      <td>79.2</td>\n",
       "      <td>360.0</td>\n",
       "      <td>1.0</td>\n",
       "      <td>Urban</td>\n",
       "      <td>Y</td>\n",
       "    </tr>\n",
       "    <tr>\n",
       "      <td>3</td>\n",
       "      <td>M</td>\n",
       "      <td>Y</td>\n",
       "      <td>0</td>\n",
       "      <td>Non Grad</td>\n",
       "      <td>N</td>\n",
       "      <td>3099.6</td>\n",
       "      <td>2829.6</td>\n",
       "      <td>144.0</td>\n",
       "      <td>360.0</td>\n",
       "      <td>1.0</td>\n",
       "      <td>Urban</td>\n",
       "      <td>Y</td>\n",
       "    </tr>\n",
       "    <tr>\n",
       "      <td>4</td>\n",
       "      <td>M</td>\n",
       "      <td>N</td>\n",
       "      <td>0</td>\n",
       "      <td>Grad</td>\n",
       "      <td>N</td>\n",
       "      <td>7200.0</td>\n",
       "      <td>0.0</td>\n",
       "      <td>169.2</td>\n",
       "      <td>360.0</td>\n",
       "      <td>1.0</td>\n",
       "      <td>Urban</td>\n",
       "      <td>Y</td>\n",
       "    </tr>\n",
       "  </tbody>\n",
       "</table>\n",
       "</div>"
      ],
      "text/plain": [
       "  Sex Marital_Status Dependents  Qual_var SE  App_Income_1  App_Income_2  \\\n",
       "0   M              N          0      Grad  N        7018.8           0.0   \n",
       "1   M              Y          1      Grad  N        5499.6        1809.6   \n",
       "2   M              Y          0      Grad  Y        3600.0           0.0   \n",
       "3   M              Y          0  Non Grad  N        3099.6        2829.6   \n",
       "4   M              N          0      Grad  N        7200.0           0.0   \n",
       "\n",
       "   CPL_Amount  CPL_Term  Credit_His Prop_Area CPL_Status  \n",
       "0         NaN     360.0         1.0     Urban          Y  \n",
       "1       153.6     360.0         1.0     Rural          N  \n",
       "2        79.2     360.0         1.0     Urban          Y  \n",
       "3       144.0     360.0         1.0     Urban          Y  \n",
       "4       169.2     360.0         1.0     Urban          Y  "
      ]
     },
     "execution_count": 6,
     "metadata": {},
     "output_type": "execute_result"
    }
   ],
   "source": [
    "df_train.head()"
   ]
  },
  {
   "cell_type": "markdown",
   "metadata": {},
   "source": [
    "# Exploratory Data Analysis"
   ]
  },
  {
   "cell_type": "code",
   "execution_count": 7,
   "metadata": {},
   "outputs": [
    {
     "data": {
      "image/png": "[encoded data removed]",
      "text/plain": [
       "<Figure size 432x288 with 8 Axes>"
      ]
     },
     "metadata": {
      "needs_background": "light"
     },
     "output_type": "display_data"
    }
   ],
   "source": [
    "columns = ['Sex', 'Marital_Status', 'Dependents', 'Qual_var', 'SE', 'Credit_His', 'Prop_Area', 'CPL_Status']\n",
    "\n",
    "for i in range(len(columns)) :\n",
    "    plt.tight_layout()\n",
    "    plt.subplot(4, 2, i+1)\n",
    "    sns.countplot(data = df_train, x = columns[i])"
   ]
  },
  {
   "cell_type": "code",
   "execution_count": 8,
   "metadata": {},
   "outputs": [
    {
     "data": {
      "image/png": "[encoded data removed]",
      "text/plain": [
       "<Figure size 864x576 with 1 Axes>"
      ]
     },
     "metadata": {
      "needs_background": "light"
     },
     "output_type": "display_data"
    },
    {
     "data": {
      "image/png": "[encoded data removed]",
      "text/plain": [
       "<Figure size 864x576 with 1 Axes>"
      ]
     },
     "metadata": {
      "needs_background": "light"
     },
     "output_type": "display_data"
    },
    {
     "data": {
      "image/png": "[encoded data removed]",
      "text/plain": [
       "<Figure size 864x576 with 1 Axes>"
      ]
     },
     "metadata": {
      "needs_background": "light"
     },
     "output_type": "display_data"
    },
    {
     "data": {
      "image/png": "[encoded data removed]",
      "text/plain": [
       "<Figure size 864x576 with 1 Axes>"
      ]
     },
     "metadata": {
      "needs_background": "light"
     },
     "output_type": "display_data"
    },
    {
     "data": {
      "image/png": "[encoded data removed]",
      "text/plain": [
       "<Figure size 864x576 with 1 Axes>"
      ]
     },
     "metadata": {
      "needs_background": "light"
     },
     "output_type": "display_data"
    },
    {
     "data": {
      "image/png": "[encoded data removed]",
      "text/plain": [
       "<Figure size 864x576 with 1 Axes>"
      ]
     },
     "metadata": {
      "needs_background": "light"
     },
     "output_type": "display_data"
    },
    {
     "data": {
      "image/png": "[encoded data removed]",
      "text/plain": [
       "<Figure size 864x576 with 1 Axes>"
      ]
     },
     "metadata": {
      "needs_background": "light"
     },
     "output_type": "display_data"
    },
    {
     "data": {
      "image/png": "[encoded data removed]",
      "text/plain": [
       "<Figure size 864x576 with 1 Axes>"
      ]
     },
     "metadata": {
      "needs_background": "light"
     },
     "output_type": "display_data"
    }
   ],
   "source": [
    "for i in range(len(columns)) :\n",
    "    plt.figure(figsize = (12,8))\n",
    "    plt.subplot(2, 4, i+1)\n",
    "    sns.countplot(data = df_train, x = 'CPL_Status', hue = columns[i])"
   ]
  },
  {
   "cell_type": "code",
   "execution_count": 9,
   "metadata": {},
   "outputs": [
    {
     "data": {
      "image/png": "[encoded data removed]",
      "text/plain": [
       "<Figure size 432x288 with 4 Axes>"
      ]
     },
     "metadata": {
      "needs_background": "light"
     },
     "output_type": "display_data"
    }
   ],
   "source": [
    "cont_columns = ['App_Income_1', 'App_Income_2', 'CPL_Amount', 'CPL_Term']\n",
    "\n",
    "for i in range(len(cont_columns)) :\n",
    "    plt.tight_layout()\n",
    "    plt.subplot(2, 2, i+1)\n",
    "    sns.scatterplot(y = cont_columns[i], x = 'CPL_Status', data = df_train)"
   ]
  },
  {
   "cell_type": "code",
   "execution_count": 10,
   "metadata": {},
   "outputs": [
    {
     "name": "stderr",
     "output_type": "stream",
     "text": [
      "C:\\Users\\AMANJEET PANI\\Anaconda3\\lib\\site-packages\\statsmodels\\nonparametric\\kde.py:447: RuntimeWarning: invalid value encountered in greater\n",
      "  X = X[np.logical_and(X > clip[0], X < clip[1])] # won't work for two columns.\n",
      "C:\\Users\\AMANJEET PANI\\Anaconda3\\lib\\site-packages\\statsmodels\\nonparametric\\kde.py:447: RuntimeWarning: invalid value encountered in less\n",
      "  X = X[np.logical_and(X > clip[0], X < clip[1])] # won't work for two columns.\n"
     ]
    },
    {
     "data": {
      "text/plain": [
       "<seaborn.axisgrid.PairGrid at 0x1c3f28d7988>"
      ]
     },
     "execution_count": 10,
     "metadata": {},
     "output_type": "execute_result"
    },
    {
     "data": {
      "image/png": "[encoded data removed]",
      "text/plain": [
       "<Figure size 963.125x900 with 30 Axes>"
      ]
     },
     "metadata": {
      "needs_background": "light"
     },
     "output_type": "display_data"
    }
   ],
   "source": [
    "sns.pairplot(df_train, hue = 'CPL_Status')"
   ]
  },
  {
   "cell_type": "markdown",
   "metadata": {},
   "source": [
    "# Feature Engineering"
   ]
  },
  {
   "cell_type": "code",
   "execution_count": 11,
   "metadata": {},
   "outputs": [],
   "source": [
    "# to check the no of null values in each column\n",
    "\n",
    "def no_of_null(dataset, name) :\n",
    "    print(name)\n",
    "    print(dataset.isnull().sum())\n",
    "    print('\\n')"
   ]
  },
  {
   "cell_type": "code",
   "execution_count": 12,
   "metadata": {},
   "outputs": [
    {
     "name": "stdout",
     "output_type": "stream",
     "text": [
      "TRAIN SET\n",
      "Sex               13\n",
      "Marital_Status     3\n",
      "Dependents        15\n",
      "Qual_var           0\n",
      "SE                32\n",
      "App_Income_1       0\n",
      "App_Income_2       0\n",
      "CPL_Amount         2\n",
      "CPL_Term          14\n",
      "Credit_His        50\n",
      "Prop_Area          0\n",
      "CPL_Status         0\n",
      "dtype: int64\n",
      "\n",
      "\n",
      "TEST SET\n",
      "Sex               11\n",
      "Marital_Status     0\n",
      "Dependents        10\n",
      "Qual_var           0\n",
      "SE                23\n",
      "App_Income_1       0\n",
      "App_Income_2       0\n",
      "CPL_Amount         0\n",
      "CPL_Term           6\n",
      "Credit_His        29\n",
      "Prop_Area          0\n",
      "dtype: int64\n",
      "\n",
      "\n"
     ]
    }
   ],
   "source": [
    "no_of_null(df_train, \"TRAIN SET\")\n",
    "no_of_null(df_test, \"TEST SET\")"
   ]
  },
  {
   "cell_type": "code",
   "execution_count": 13,
   "metadata": {},
   "outputs": [],
   "source": [
    "# to check the %age of null values in each column\n",
    "\n",
    "def percent_of_null(dataset, name) :\n",
    "    print(name)\n",
    "    print(dataset.isnull().sum() / len(dataset) * 100)\n",
    "    print('\\n')"
   ]
  },
  {
   "cell_type": "code",
   "execution_count": 14,
   "metadata": {},
   "outputs": [
    {
     "name": "stdout",
     "output_type": "stream",
     "text": [
      "TRAIN SET\n",
      "Sex               2.117264\n",
      "Marital_Status    0.488599\n",
      "Dependents        2.442997\n",
      "Qual_var          0.000000\n",
      "SE                5.211726\n",
      "App_Income_1      0.000000\n",
      "App_Income_2      0.000000\n",
      "CPL_Amount        0.325733\n",
      "CPL_Term          2.280130\n",
      "Credit_His        8.143322\n",
      "Prop_Area         0.000000\n",
      "CPL_Status        0.000000\n",
      "dtype: float64\n",
      "\n",
      "\n",
      "TEST SET\n",
      "Sex               2.997275\n",
      "Marital_Status    0.000000\n",
      "Dependents        2.724796\n",
      "Qual_var          0.000000\n",
      "SE                6.267030\n",
      "App_Income_1      0.000000\n",
      "App_Income_2      0.000000\n",
      "CPL_Amount        0.000000\n",
      "CPL_Term          1.634877\n",
      "Credit_His        7.901907\n",
      "Prop_Area         0.000000\n",
      "dtype: float64\n",
      "\n",
      "\n"
     ]
    }
   ],
   "source": [
    "percent_of_null(df_train, \"TRAIN SET\")\n",
    "percent_of_null(df_test, \"TEST SET\")"
   ]
  },
  {
   "cell_type": "code",
   "execution_count": 15,
   "metadata": {},
   "outputs": [],
   "source": [
    "# drop those columns which are string and have < 5% missing values\n",
    "\n",
    "df_train = df_train.dropna(subset = ['Sex', 'Marital_Status', 'Dependents', 'CPL_Amount', 'CPL_Term'])\n",
    "df_test = df_test.dropna(subset = ['Sex', 'Dependents', 'CPL_Term'])"
   ]
  },
  {
   "cell_type": "code",
   "execution_count": 16,
   "metadata": {},
   "outputs": [
    {
     "name": "stderr",
     "output_type": "stream",
     "text": [
      "C:\\Users\\AMANJEET PANI\\Anaconda3\\lib\\site-packages\\ipykernel_launcher.py:3: SettingWithCopyWarning: \n",
      "A value is trying to be set on a copy of a slice from a DataFrame.\n",
      "Try using .loc[row_indexer,col_indexer] = value instead\n",
      "\n",
      "See the caveats in the documentation: http://pandas.pydata.org/pandas-docs/stable/user_guide/indexing.html#returning-a-view-versus-a-copy\n",
      "  This is separate from the ipykernel package so we can avoid doing imports until\n"
     ]
    }
   ],
   "source": [
    "# fill the missing values of SE column with the previous valid value of that column\n",
    "\n",
    "df_train['SE'] = df_train['SE'].fillna(method = 'ffill', axis = 0)\n",
    "df_test['SE'] = df_test['SE'].fillna(method = 'ffill', axis = 0)"
   ]
  },
  {
   "cell_type": "code",
   "execution_count": 17,
   "metadata": {},
   "outputs": [],
   "source": [
    "# fill the  missing values of Credit_His column with the mean value for that column\n",
    "\n",
    "def fill_missing_values(dataset) :\n",
    "    if dataset['Credit_His'].mean() > 0.5 :\n",
    "        dataset['Credit_His'] = dataset['Credit_His'].fillna(value = 1, axis = 0)\n",
    "    else :\n",
    "        dataset['Credit_His'] = dataset['Credit_His'].fillna(value = 0, axis = 0)\n",
    "    return dataset"
   ]
  },
  {
   "cell_type": "code",
   "execution_count": 18,
   "metadata": {},
   "outputs": [
    {
     "name": "stderr",
     "output_type": "stream",
     "text": [
      "C:\\Users\\AMANJEET PANI\\Anaconda3\\lib\\site-packages\\ipykernel_launcher.py:5: SettingWithCopyWarning: \n",
      "A value is trying to be set on a copy of a slice from a DataFrame.\n",
      "Try using .loc[row_indexer,col_indexer] = value instead\n",
      "\n",
      "See the caveats in the documentation: http://pandas.pydata.org/pandas-docs/stable/user_guide/indexing.html#returning-a-view-versus-a-copy\n",
      "  \"\"\"\n"
     ]
    }
   ],
   "source": [
    "df_train = fill_missing_values(df_train)\n",
    "df_test = fill_missing_values(df_test)"
   ]
  },
  {
   "cell_type": "code",
   "execution_count": 19,
   "metadata": {},
   "outputs": [
    {
     "name": "stdout",
     "output_type": "stream",
     "text": [
      "TRAIN SET\n",
      "Sex               0\n",
      "Marital_Status    0\n",
      "Dependents        0\n",
      "Qual_var          0\n",
      "SE                0\n",
      "App_Income_1      0\n",
      "App_Income_2      0\n",
      "CPL_Amount        0\n",
      "CPL_Term          0\n",
      "Credit_His        0\n",
      "Prop_Area         0\n",
      "CPL_Status        0\n",
      "dtype: int64\n",
      "\n",
      "\n",
      "TEST SET\n",
      "Sex               0\n",
      "Marital_Status    0\n",
      "Dependents        0\n",
      "Qual_var          0\n",
      "SE                0\n",
      "App_Income_1      0\n",
      "App_Income_2      0\n",
      "CPL_Amount        0\n",
      "CPL_Term          0\n",
      "Credit_His        0\n",
      "Prop_Area         0\n",
      "dtype: int64\n",
      "\n",
      "\n"
     ]
    }
   ],
   "source": [
    "no_of_null(df_train, 'TRAIN SET')\n",
    "no_of_null(df_test, 'TEST SET')"
   ]
  },
  {
   "cell_type": "code",
   "execution_count": 20,
   "metadata": {},
   "outputs": [],
   "source": [
    "def get_dtypes(dataset, name) :\n",
    "    print(name)\n",
    "    print(dataset.dtypes)\n",
    "    print('\\n')"
   ]
  },
  {
   "cell_type": "code",
   "execution_count": 21,
   "metadata": {},
   "outputs": [
    {
     "name": "stdout",
     "output_type": "stream",
     "text": [
      "TRAIN SET\n",
      "Sex                object\n",
      "Marital_Status     object\n",
      "Dependents         object\n",
      "Qual_var           object\n",
      "SE                 object\n",
      "App_Income_1      float64\n",
      "App_Income_2      float64\n",
      "CPL_Amount        float64\n",
      "CPL_Term          float64\n",
      "Credit_His        float64\n",
      "Prop_Area          object\n",
      "CPL_Status         object\n",
      "dtype: object\n",
      "\n",
      "\n",
      "TEST SET\n",
      "Sex                object\n",
      "Marital_Status     object\n",
      "Dependents         object\n",
      "Qual_var           object\n",
      "SE                 object\n",
      "App_Income_1      float64\n",
      "App_Income_2      float64\n",
      "CPL_Amount        float64\n",
      "CPL_Term          float64\n",
      "Credit_His        float64\n",
      "Prop_Area          object\n",
      "dtype: object\n",
      "\n",
      "\n"
     ]
    }
   ],
   "source": [
    "#to check the datatypes of each column\n",
    "\n",
    "get_dtypes(df_train, \"TRAIN SET\")\n",
    "get_dtypes(df_test, \"TEST SET\")"
   ]
  },
  {
   "cell_type": "code",
   "execution_count": 22,
   "metadata": {},
   "outputs": [],
   "source": [
    "# create dummy variable and drop the original column for each categorical column\n",
    "\n",
    "def to_categorical(dataset) :\n",
    "    dummies = pd.get_dummies(dataset, columns = ['Sex', 'Marital_Status', 'Dependents', 'Qual_var', 'SE', 'Prop_Area'], drop_first = True)\n",
    "    return dummies"
   ]
  },
  {
   "cell_type": "code",
   "execution_count": 23,
   "metadata": {},
   "outputs": [],
   "source": [
    "df_train = to_categorical(df_train)\n",
    "df_test = to_categorical(df_test)"
   ]
  },
  {
   "cell_type": "code",
   "execution_count": 24,
   "metadata": {},
   "outputs": [],
   "source": [
    "dummy = pd.get_dummies(df_train['CPL_Status'], drop_first = True)\n",
    "df_train = df_train.drop('CPL_Status', axis = 1)\n",
    "df_train = pd.concat([df_train, dummy], axis = 1)"
   ]
  },
  {
   "cell_type": "code",
   "execution_count": 25,
   "metadata": {},
   "outputs": [
    {
     "data": {
      "text/html": [
       "<div>\n",
       "<style scoped>\n",
       "    .dataframe tbody tr th:only-of-type {\n",
       "        vertical-align: middle;\n",
       "    }\n",
       "\n",
       "    .dataframe tbody tr th {\n",
       "        vertical-align: top;\n",
       "    }\n",
       "\n",
       "    .dataframe thead th {\n",
       "        text-align: right;\n",
       "    }\n",
       "</style>\n",
       "<table border=\"1\" class=\"dataframe\">\n",
       "  <thead>\n",
       "    <tr style=\"text-align: right;\">\n",
       "      <th></th>\n",
       "      <th>App_Income_1</th>\n",
       "      <th>App_Income_2</th>\n",
       "      <th>CPL_Amount</th>\n",
       "      <th>CPL_Term</th>\n",
       "      <th>Credit_His</th>\n",
       "      <th>Sex_M</th>\n",
       "      <th>Marital_Status_Y</th>\n",
       "      <th>Dependents_1</th>\n",
       "      <th>Dependents_2</th>\n",
       "      <th>Dependents_3+</th>\n",
       "      <th>Qual_var_Non Grad</th>\n",
       "      <th>SE_Y</th>\n",
       "      <th>Prop_Area_Semi U</th>\n",
       "      <th>Prop_Area_Urban</th>\n",
       "      <th>Y</th>\n",
       "    </tr>\n",
       "  </thead>\n",
       "  <tbody>\n",
       "    <tr>\n",
       "      <td>1</td>\n",
       "      <td>5499.6</td>\n",
       "      <td>1809.6</td>\n",
       "      <td>153.6</td>\n",
       "      <td>360.0</td>\n",
       "      <td>1.0</td>\n",
       "      <td>1</td>\n",
       "      <td>1</td>\n",
       "      <td>1</td>\n",
       "      <td>0</td>\n",
       "      <td>0</td>\n",
       "      <td>0</td>\n",
       "      <td>0</td>\n",
       "      <td>0</td>\n",
       "      <td>0</td>\n",
       "      <td>0</td>\n",
       "    </tr>\n",
       "    <tr>\n",
       "      <td>2</td>\n",
       "      <td>3600.0</td>\n",
       "      <td>0.0</td>\n",
       "      <td>79.2</td>\n",
       "      <td>360.0</td>\n",
       "      <td>1.0</td>\n",
       "      <td>1</td>\n",
       "      <td>1</td>\n",
       "      <td>0</td>\n",
       "      <td>0</td>\n",
       "      <td>0</td>\n",
       "      <td>0</td>\n",
       "      <td>1</td>\n",
       "      <td>0</td>\n",
       "      <td>1</td>\n",
       "      <td>1</td>\n",
       "    </tr>\n",
       "    <tr>\n",
       "      <td>3</td>\n",
       "      <td>3099.6</td>\n",
       "      <td>2829.6</td>\n",
       "      <td>144.0</td>\n",
       "      <td>360.0</td>\n",
       "      <td>1.0</td>\n",
       "      <td>1</td>\n",
       "      <td>1</td>\n",
       "      <td>0</td>\n",
       "      <td>0</td>\n",
       "      <td>0</td>\n",
       "      <td>1</td>\n",
       "      <td>0</td>\n",
       "      <td>0</td>\n",
       "      <td>1</td>\n",
       "      <td>1</td>\n",
       "    </tr>\n",
       "    <tr>\n",
       "      <td>4</td>\n",
       "      <td>7200.0</td>\n",
       "      <td>0.0</td>\n",
       "      <td>169.2</td>\n",
       "      <td>360.0</td>\n",
       "      <td>1.0</td>\n",
       "      <td>1</td>\n",
       "      <td>0</td>\n",
       "      <td>0</td>\n",
       "      <td>0</td>\n",
       "      <td>0</td>\n",
       "      <td>0</td>\n",
       "      <td>0</td>\n",
       "      <td>0</td>\n",
       "      <td>1</td>\n",
       "      <td>1</td>\n",
       "    </tr>\n",
       "    <tr>\n",
       "      <td>5</td>\n",
       "      <td>6500.4</td>\n",
       "      <td>5035.2</td>\n",
       "      <td>320.4</td>\n",
       "      <td>360.0</td>\n",
       "      <td>1.0</td>\n",
       "      <td>1</td>\n",
       "      <td>1</td>\n",
       "      <td>0</td>\n",
       "      <td>1</td>\n",
       "      <td>0</td>\n",
       "      <td>0</td>\n",
       "      <td>1</td>\n",
       "      <td>0</td>\n",
       "      <td>1</td>\n",
       "      <td>1</td>\n",
       "    </tr>\n",
       "  </tbody>\n",
       "</table>\n",
       "</div>"
      ],
      "text/plain": [
       "   App_Income_1  App_Income_2  CPL_Amount  CPL_Term  Credit_His  Sex_M  \\\n",
       "1        5499.6        1809.6       153.6     360.0         1.0      1   \n",
       "2        3600.0           0.0        79.2     360.0         1.0      1   \n",
       "3        3099.6        2829.6       144.0     360.0         1.0      1   \n",
       "4        7200.0           0.0       169.2     360.0         1.0      1   \n",
       "5        6500.4        5035.2       320.4     360.0         1.0      1   \n",
       "\n",
       "   Marital_Status_Y  Dependents_1  Dependents_2  Dependents_3+  \\\n",
       "1                 1             1             0              0   \n",
       "2                 1             0             0              0   \n",
       "3                 1             0             0              0   \n",
       "4                 0             0             0              0   \n",
       "5                 1             0             1              0   \n",
       "\n",
       "   Qual_var_Non Grad  SE_Y  Prop_Area_Semi U  Prop_Area_Urban  Y  \n",
       "1                  0     0                 0                0  0  \n",
       "2                  0     1                 0                1  1  \n",
       "3                  1     0                 0                1  1  \n",
       "4                  0     0                 0                1  1  \n",
       "5                  0     1                 0                1  1  "
      ]
     },
     "execution_count": 25,
     "metadata": {},
     "output_type": "execute_result"
    }
   ],
   "source": [
    "df_train.head()"
   ]
  },
  {
   "cell_type": "code",
   "execution_count": 26,
   "metadata": {},
   "outputs": [],
   "source": [
    "# we need to rename the target column to a more convenient name, since it was changed \n",
    "\n",
    "df_train = df_train.rename(columns = {'Y' : 'CPL_Status'})"
   ]
  },
  {
   "cell_type": "code",
   "execution_count": 27,
   "metadata": {},
   "outputs": [
    {
     "name": "stdout",
     "output_type": "stream",
     "text": [
      "TRAIN SET\n",
      "App_Income_1         float64\n",
      "App_Income_2         float64\n",
      "CPL_Amount           float64\n",
      "CPL_Term             float64\n",
      "Credit_His           float64\n",
      "Sex_M                  uint8\n",
      "Marital_Status_Y       uint8\n",
      "Dependents_1           uint8\n",
      "Dependents_2           uint8\n",
      "Dependents_3+          uint8\n",
      "Qual_var_Non Grad      uint8\n",
      "SE_Y                   uint8\n",
      "Prop_Area_Semi U       uint8\n",
      "Prop_Area_Urban        uint8\n",
      "CPL_Status             uint8\n",
      "dtype: object\n",
      "\n",
      "\n",
      "TEST SET\n",
      "App_Income_1         float64\n",
      "App_Income_2         float64\n",
      "CPL_Amount           float64\n",
      "CPL_Term             float64\n",
      "Credit_His           float64\n",
      "Sex_M                  uint8\n",
      "Marital_Status_Y       uint8\n",
      "Dependents_1           uint8\n",
      "Dependents_2           uint8\n",
      "Dependents_3+          uint8\n",
      "Qual_var_Non Grad      uint8\n",
      "SE_Y                   uint8\n",
      "Prop_Area_Semi U       uint8\n",
      "Prop_Area_Urban        uint8\n",
      "dtype: object\n",
      "\n",
      "\n"
     ]
    }
   ],
   "source": [
    "get_dtypes(df_train, \"TRAIN SET\")\n",
    "get_dtypes(df_test, \"TEST SET\")"
   ]
  },
  {
   "cell_type": "code",
   "execution_count": 28,
   "metadata": {},
   "outputs": [
    {
     "data": {
      "text/html": [
       "<div>\n",
       "<style scoped>\n",
       "    .dataframe tbody tr th:only-of-type {\n",
       "        vertical-align: middle;\n",
       "    }\n",
       "\n",
       "    .dataframe tbody tr th {\n",
       "        vertical-align: top;\n",
       "    }\n",
       "\n",
       "    .dataframe thead th {\n",
       "        text-align: right;\n",
       "    }\n",
       "</style>\n",
       "<table border=\"1\" class=\"dataframe\">\n",
       "  <thead>\n",
       "    <tr style=\"text-align: right;\">\n",
       "      <th></th>\n",
       "      <th>App_Income_1</th>\n",
       "      <th>App_Income_2</th>\n",
       "      <th>CPL_Amount</th>\n",
       "      <th>CPL_Term</th>\n",
       "      <th>Credit_His</th>\n",
       "      <th>Sex_M</th>\n",
       "      <th>Marital_Status_Y</th>\n",
       "      <th>Dependents_1</th>\n",
       "      <th>Dependents_2</th>\n",
       "      <th>Dependents_3+</th>\n",
       "      <th>Qual_var_Non Grad</th>\n",
       "      <th>SE_Y</th>\n",
       "      <th>Prop_Area_Semi U</th>\n",
       "      <th>Prop_Area_Urban</th>\n",
       "      <th>CPL_Status</th>\n",
       "    </tr>\n",
       "  </thead>\n",
       "  <tbody>\n",
       "    <tr>\n",
       "      <td>App_Income_1</td>\n",
       "      <td>1.000000</td>\n",
       "      <td>-0.108449</td>\n",
       "      <td>0.031098</td>\n",
       "      <td>-0.039125</td>\n",
       "      <td>-0.044563</td>\n",
       "      <td>0.055236</td>\n",
       "      <td>0.038984</td>\n",
       "      <td>0.045036</td>\n",
       "      <td>-0.028612</td>\n",
       "      <td>0.104880</td>\n",
       "      <td>-0.133853</td>\n",
       "      <td>0.143373</td>\n",
       "      <td>-0.009252</td>\n",
       "      <td>-0.014382</td>\n",
       "      <td>-0.032088</td>\n",
       "    </tr>\n",
       "    <tr>\n",
       "      <td>App_Income_2</td>\n",
       "      <td>-0.108449</td>\n",
       "      <td>1.000000</td>\n",
       "      <td>0.088806</td>\n",
       "      <td>-0.057810</td>\n",
       "      <td>0.009277</td>\n",
       "      <td>0.078265</td>\n",
       "      <td>0.064365</td>\n",
       "      <td>-0.033878</td>\n",
       "      <td>0.006501</td>\n",
       "      <td>0.055490</td>\n",
       "      <td>-0.072101</td>\n",
       "      <td>-0.031439</td>\n",
       "      <td>-0.026738</td>\n",
       "      <td>0.037258</td>\n",
       "      <td>-0.063209</td>\n",
       "    </tr>\n",
       "    <tr>\n",
       "      <td>CPL_Amount</td>\n",
       "      <td>0.031098</td>\n",
       "      <td>0.088806</td>\n",
       "      <td>1.000000</td>\n",
       "      <td>-0.008742</td>\n",
       "      <td>0.006679</td>\n",
       "      <td>-0.031797</td>\n",
       "      <td>0.072036</td>\n",
       "      <td>0.081990</td>\n",
       "      <td>0.086258</td>\n",
       "      <td>0.062270</td>\n",
       "      <td>-0.106363</td>\n",
       "      <td>-0.043891</td>\n",
       "      <td>0.008238</td>\n",
       "      <td>0.016092</td>\n",
       "      <td>0.042352</td>\n",
       "    </tr>\n",
       "    <tr>\n",
       "      <td>CPL_Term</td>\n",
       "      <td>-0.039125</td>\n",
       "      <td>-0.057810</td>\n",
       "      <td>-0.008742</td>\n",
       "      <td>1.000000</td>\n",
       "      <td>0.021134</td>\n",
       "      <td>-0.087174</td>\n",
       "      <td>-0.103351</td>\n",
       "      <td>-0.078728</td>\n",
       "      <td>-0.010175</td>\n",
       "      <td>-0.081563</td>\n",
       "      <td>-0.077637</td>\n",
       "      <td>-0.024070</td>\n",
       "      <td>0.055181</td>\n",
       "      <td>-0.087712</td>\n",
       "      <td>-0.014120</td>\n",
       "    </tr>\n",
       "    <tr>\n",
       "      <td>Credit_His</td>\n",
       "      <td>-0.044563</td>\n",
       "      <td>0.009277</td>\n",
       "      <td>0.006679</td>\n",
       "      <td>0.021134</td>\n",
       "      <td>1.000000</td>\n",
       "      <td>0.014362</td>\n",
       "      <td>0.018805</td>\n",
       "      <td>0.001840</td>\n",
       "      <td>0.013743</td>\n",
       "      <td>-0.072188</td>\n",
       "      <td>-0.050286</td>\n",
       "      <td>-0.026493</td>\n",
       "      <td>0.040149</td>\n",
       "      <td>-0.021812</td>\n",
       "      <td>0.508520</td>\n",
       "    </tr>\n",
       "    <tr>\n",
       "      <td>Sex_M</td>\n",
       "      <td>0.055236</td>\n",
       "      <td>0.078265</td>\n",
       "      <td>-0.031797</td>\n",
       "      <td>-0.087174</td>\n",
       "      <td>0.014362</td>\n",
       "      <td>1.000000</td>\n",
       "      <td>0.357581</td>\n",
       "      <td>-0.005168</td>\n",
       "      <td>0.135377</td>\n",
       "      <td>0.093826</td>\n",
       "      <td>0.051076</td>\n",
       "      <td>-0.006822</td>\n",
       "      <td>-0.123618</td>\n",
       "      <td>0.057641</td>\n",
       "      <td>0.026409</td>\n",
       "    </tr>\n",
       "    <tr>\n",
       "      <td>Marital_Status_Y</td>\n",
       "      <td>0.038984</td>\n",
       "      <td>0.064365</td>\n",
       "      <td>0.072036</td>\n",
       "      <td>-0.103351</td>\n",
       "      <td>0.018805</td>\n",
       "      <td>0.357581</td>\n",
       "      <td>1.000000</td>\n",
       "      <td>0.116159</td>\n",
       "      <td>0.258682</td>\n",
       "      <td>0.139749</td>\n",
       "      <td>0.006556</td>\n",
       "      <td>-0.017953</td>\n",
       "      <td>-0.002208</td>\n",
       "      <td>0.016505</td>\n",
       "      <td>0.104116</td>\n",
       "    </tr>\n",
       "    <tr>\n",
       "      <td>Dependents_1</td>\n",
       "      <td>0.045036</td>\n",
       "      <td>-0.033878</td>\n",
       "      <td>0.081990</td>\n",
       "      <td>-0.078728</td>\n",
       "      <td>0.001840</td>\n",
       "      <td>-0.005168</td>\n",
       "      <td>0.116159</td>\n",
       "      <td>1.000000</td>\n",
       "      <td>-0.211026</td>\n",
       "      <td>-0.137998</td>\n",
       "      <td>-0.004115</td>\n",
       "      <td>0.071643</td>\n",
       "      <td>0.015600</td>\n",
       "      <td>0.068632</td>\n",
       "      <td>-0.045319</td>\n",
       "    </tr>\n",
       "    <tr>\n",
       "      <td>Dependents_2</td>\n",
       "      <td>-0.028612</td>\n",
       "      <td>0.006501</td>\n",
       "      <td>0.086258</td>\n",
       "      <td>-0.010175</td>\n",
       "      <td>0.013743</td>\n",
       "      <td>0.135377</td>\n",
       "      <td>0.258682</td>\n",
       "      <td>-0.211026</td>\n",
       "      <td>1.000000</td>\n",
       "      <td>-0.137161</td>\n",
       "      <td>0.020853</td>\n",
       "      <td>0.033357</td>\n",
       "      <td>-0.018744</td>\n",
       "      <td>0.032430</td>\n",
       "      <td>0.072042</td>\n",
       "    </tr>\n",
       "    <tr>\n",
       "      <td>Dependents_3+</td>\n",
       "      <td>0.104880</td>\n",
       "      <td>0.055490</td>\n",
       "      <td>0.062270</td>\n",
       "      <td>-0.081563</td>\n",
       "      <td>-0.072188</td>\n",
       "      <td>0.093826</td>\n",
       "      <td>0.139749</td>\n",
       "      <td>-0.137998</td>\n",
       "      <td>-0.137161</td>\n",
       "      <td>1.000000</td>\n",
       "      <td>0.061531</td>\n",
       "      <td>-0.007799</td>\n",
       "      <td>-0.000344</td>\n",
       "      <td>-0.041825</td>\n",
       "      <td>-0.037070</td>\n",
       "    </tr>\n",
       "    <tr>\n",
       "      <td>Qual_var_Non Grad</td>\n",
       "      <td>-0.133853</td>\n",
       "      <td>-0.072101</td>\n",
       "      <td>-0.106363</td>\n",
       "      <td>-0.077637</td>\n",
       "      <td>-0.050286</td>\n",
       "      <td>0.051076</td>\n",
       "      <td>0.006556</td>\n",
       "      <td>-0.004115</td>\n",
       "      <td>0.020853</td>\n",
       "      <td>0.061531</td>\n",
       "      <td>1.000000</td>\n",
       "      <td>-0.008280</td>\n",
       "      <td>-0.033317</td>\n",
       "      <td>-0.037537</td>\n",
       "      <td>-0.063335</td>\n",
       "    </tr>\n",
       "    <tr>\n",
       "      <td>SE_Y</td>\n",
       "      <td>0.143373</td>\n",
       "      <td>-0.031439</td>\n",
       "      <td>-0.043891</td>\n",
       "      <td>-0.024070</td>\n",
       "      <td>-0.026493</td>\n",
       "      <td>-0.006822</td>\n",
       "      <td>-0.017953</td>\n",
       "      <td>0.071643</td>\n",
       "      <td>0.033357</td>\n",
       "      <td>-0.007799</td>\n",
       "      <td>-0.008280</td>\n",
       "      <td>1.000000</td>\n",
       "      <td>0.000882</td>\n",
       "      <td>-0.032764</td>\n",
       "      <td>-0.013640</td>\n",
       "    </tr>\n",
       "    <tr>\n",
       "      <td>Prop_Area_Semi U</td>\n",
       "      <td>-0.009252</td>\n",
       "      <td>-0.026738</td>\n",
       "      <td>0.008238</td>\n",
       "      <td>0.055181</td>\n",
       "      <td>0.040149</td>\n",
       "      <td>-0.123618</td>\n",
       "      <td>-0.002208</td>\n",
       "      <td>0.015600</td>\n",
       "      <td>-0.018744</td>\n",
       "      <td>-0.000344</td>\n",
       "      <td>-0.033317</td>\n",
       "      <td>0.000882</td>\n",
       "      <td>1.000000</td>\n",
       "      <td>-0.541702</td>\n",
       "      <td>0.138777</td>\n",
       "    </tr>\n",
       "    <tr>\n",
       "      <td>Prop_Area_Urban</td>\n",
       "      <td>-0.014382</td>\n",
       "      <td>0.037258</td>\n",
       "      <td>0.016092</td>\n",
       "      <td>-0.087712</td>\n",
       "      <td>-0.021812</td>\n",
       "      <td>0.057641</td>\n",
       "      <td>0.016505</td>\n",
       "      <td>0.068632</td>\n",
       "      <td>0.032430</td>\n",
       "      <td>-0.041825</td>\n",
       "      <td>-0.037537</td>\n",
       "      <td>-0.032764</td>\n",
       "      <td>-0.541702</td>\n",
       "      <td>1.000000</td>\n",
       "      <td>-0.042679</td>\n",
       "    </tr>\n",
       "    <tr>\n",
       "      <td>CPL_Status</td>\n",
       "      <td>-0.032088</td>\n",
       "      <td>-0.063209</td>\n",
       "      <td>0.042352</td>\n",
       "      <td>-0.014120</td>\n",
       "      <td>0.508520</td>\n",
       "      <td>0.026409</td>\n",
       "      <td>0.104116</td>\n",
       "      <td>-0.045319</td>\n",
       "      <td>0.072042</td>\n",
       "      <td>-0.037070</td>\n",
       "      <td>-0.063335</td>\n",
       "      <td>-0.013640</td>\n",
       "      <td>0.138777</td>\n",
       "      <td>-0.042679</td>\n",
       "      <td>1.000000</td>\n",
       "    </tr>\n",
       "  </tbody>\n",
       "</table>\n",
       "</div>"
      ],
      "text/plain": [
       "                   App_Income_1  App_Income_2  CPL_Amount  CPL_Term  \\\n",
       "App_Income_1           1.000000     -0.108449    0.031098 -0.039125   \n",
       "App_Income_2          -0.108449      1.000000    0.088806 -0.057810   \n",
       "CPL_Amount             0.031098      0.088806    1.000000 -0.008742   \n",
       "CPL_Term              -0.039125     -0.057810   -0.008742  1.000000   \n",
       "Credit_His            -0.044563      0.009277    0.006679  0.021134   \n",
       "Sex_M                  0.055236      0.078265   -0.031797 -0.087174   \n",
       "Marital_Status_Y       0.038984      0.064365    0.072036 -0.103351   \n",
       "Dependents_1           0.045036     -0.033878    0.081990 -0.078728   \n",
       "Dependents_2          -0.028612      0.006501    0.086258 -0.010175   \n",
       "Dependents_3+          0.104880      0.055490    0.062270 -0.081563   \n",
       "Qual_var_Non Grad     -0.133853     -0.072101   -0.106363 -0.077637   \n",
       "SE_Y                   0.143373     -0.031439   -0.043891 -0.024070   \n",
       "Prop_Area_Semi U      -0.009252     -0.026738    0.008238  0.055181   \n",
       "Prop_Area_Urban       -0.014382      0.037258    0.016092 -0.087712   \n",
       "CPL_Status            -0.032088     -0.063209    0.042352 -0.014120   \n",
       "\n",
       "                   Credit_His     Sex_M  Marital_Status_Y  Dependents_1  \\\n",
       "App_Income_1        -0.044563  0.055236          0.038984      0.045036   \n",
       "App_Income_2         0.009277  0.078265          0.064365     -0.033878   \n",
       "CPL_Amount           0.006679 -0.031797          0.072036      0.081990   \n",
       "CPL_Term             0.021134 -0.087174         -0.103351     -0.078728   \n",
       "Credit_His           1.000000  0.014362          0.018805      0.001840   \n",
       "Sex_M                0.014362  1.000000          0.357581     -0.005168   \n",
       "Marital_Status_Y     0.018805  0.357581          1.000000      0.116159   \n",
       "Dependents_1         0.001840 -0.005168          0.116159      1.000000   \n",
       "Dependents_2         0.013743  0.135377          0.258682     -0.211026   \n",
       "Dependents_3+       -0.072188  0.093826          0.139749     -0.137998   \n",
       "Qual_var_Non Grad   -0.050286  0.051076          0.006556     -0.004115   \n",
       "SE_Y                -0.026493 -0.006822         -0.017953      0.071643   \n",
       "Prop_Area_Semi U     0.040149 -0.123618         -0.002208      0.015600   \n",
       "Prop_Area_Urban     -0.021812  0.057641          0.016505      0.068632   \n",
       "CPL_Status           0.508520  0.026409          0.104116     -0.045319   \n",
       "\n",
       "                   Dependents_2  Dependents_3+  Qual_var_Non Grad      SE_Y  \\\n",
       "App_Income_1          -0.028612       0.104880          -0.133853  0.143373   \n",
       "App_Income_2           0.006501       0.055490          -0.072101 -0.031439   \n",
       "CPL_Amount             0.086258       0.062270          -0.106363 -0.043891   \n",
       "CPL_Term              -0.010175      -0.081563          -0.077637 -0.024070   \n",
       "Credit_His             0.013743      -0.072188          -0.050286 -0.026493   \n",
       "Sex_M                  0.135377       0.093826           0.051076 -0.006822   \n",
       "Marital_Status_Y       0.258682       0.139749           0.006556 -0.017953   \n",
       "Dependents_1          -0.211026      -0.137998          -0.004115  0.071643   \n",
       "Dependents_2           1.000000      -0.137161           0.020853  0.033357   \n",
       "Dependents_3+         -0.137161       1.000000           0.061531 -0.007799   \n",
       "Qual_var_Non Grad      0.020853       0.061531           1.000000 -0.008280   \n",
       "SE_Y                   0.033357      -0.007799          -0.008280  1.000000   \n",
       "Prop_Area_Semi U      -0.018744      -0.000344          -0.033317  0.000882   \n",
       "Prop_Area_Urban        0.032430      -0.041825          -0.037537 -0.032764   \n",
       "CPL_Status             0.072042      -0.037070          -0.063335 -0.013640   \n",
       "\n",
       "                   Prop_Area_Semi U  Prop_Area_Urban  CPL_Status  \n",
       "App_Income_1              -0.009252        -0.014382   -0.032088  \n",
       "App_Income_2              -0.026738         0.037258   -0.063209  \n",
       "CPL_Amount                 0.008238         0.016092    0.042352  \n",
       "CPL_Term                   0.055181        -0.087712   -0.014120  \n",
       "Credit_His                 0.040149        -0.021812    0.508520  \n",
       "Sex_M                     -0.123618         0.057641    0.026409  \n",
       "Marital_Status_Y          -0.002208         0.016505    0.104116  \n",
       "Dependents_1               0.015600         0.068632   -0.045319  \n",
       "Dependents_2              -0.018744         0.032430    0.072042  \n",
       "Dependents_3+             -0.000344        -0.041825   -0.037070  \n",
       "Qual_var_Non Grad         -0.033317        -0.037537   -0.063335  \n",
       "SE_Y                       0.000882        -0.032764   -0.013640  \n",
       "Prop_Area_Semi U           1.000000        -0.541702    0.138777  \n",
       "Prop_Area_Urban           -0.541702         1.000000   -0.042679  \n",
       "CPL_Status                 0.138777        -0.042679    1.000000  "
      ]
     },
     "execution_count": 28,
     "metadata": {},
     "output_type": "execute_result"
    }
   ],
   "source": [
    "# to check the correlation of each column of the dataset with each other\n",
    "df_train.corr()"
   ]
  },
  {
   "cell_type": "code",
   "execution_count": 29,
   "metadata": {},
   "outputs": [
    {
     "data": {
      "text/plain": [
       "<matplotlib.axes._subplots.AxesSubplot at 0x1c3f28b6c88>"
      ]
     },
     "execution_count": 29,
     "metadata": {},
     "output_type": "execute_result"
    },
    {
     "data": {
      "image/png": "[encoded data removed]",
      "text/plain": [
       "<Figure size 864x576 with 2 Axes>"
      ]
     },
     "metadata": {
      "needs_background": "light"
     },
     "output_type": "display_data"
    }
   ],
   "source": [
    "# to plot the heatmap of the correlation dataframe\n",
    "\n",
    "plt.figure(figsize = (12, 8))\n",
    "sns.heatmap(df_train.corr())"
   ]
  },
  {
   "cell_type": "code",
   "execution_count": 30,
   "metadata": {},
   "outputs": [
    {
     "data": {
      "text/plain": [
       "<matplotlib.axes._subplots.AxesSubplot at 0x1c3f2590548>"
      ]
     },
     "execution_count": 30,
     "metadata": {},
     "output_type": "execute_result"
    },
    {
     "data": {
      "image/png": "[encoded data removed]",
      "text/plain": [
       "<Figure size 432x288 with 1 Axes>"
      ]
     },
     "metadata": {
      "needs_background": "light"
     },
     "output_type": "display_data"
    }
   ],
   "source": [
    "# to plot a bar chart for the correlation of each column with the target column\n",
    "\n",
    "plt.ylim(-0.15, 0.6)\n",
    "df_train.corr()['CPL_Status'].sort_values()[:-1].plot(kind = 'bar')"
   ]
  },
  {
   "cell_type": "code",
   "execution_count": 31,
   "metadata": {},
   "outputs": [],
   "source": [
    "# drop the CPL_Term column since it is the least related and doesn't make a difference for our prediction\n",
    "\n",
    "df_train = df_train.drop('CPL_Term', axis = 1)\n",
    "df_test = df_test.drop('CPL_Term', axis = 1)"
   ]
  },
  {
   "cell_type": "code",
   "execution_count": 32,
   "metadata": {},
   "outputs": [],
   "source": [
    "# separate the independent and the dependent features for training of model\n",
    "\n",
    "X = df_train.drop('CPL_Status', axis = 1)\n",
    "y = df_train['CPL_Status']"
   ]
  },
  {
   "cell_type": "markdown",
   "metadata": {},
   "source": [
    "# Train - Test Split"
   ]
  },
  {
   "cell_type": "code",
   "execution_count": 33,
   "metadata": {},
   "outputs": [],
   "source": [
    "from sklearn.model_selection import train_test_split\n",
    "\n",
    "X_train, X_test, y_train, y_test = train_test_split(X, y, test_size = 0.25)"
   ]
  },
  {
   "cell_type": "code",
   "execution_count": 34,
   "metadata": {},
   "outputs": [
    {
     "name": "stdout",
     "output_type": "stream",
     "text": [
      "(428, 13) (143, 13) (428,) (143,)\n"
     ]
    }
   ],
   "source": [
    "print(X_train.shape, X_test.shape, y_train.shape, y_test.shape)"
   ]
  },
  {
   "cell_type": "markdown",
   "metadata": {},
   "source": [
    "# Feature Scaling"
   ]
  },
  {
   "cell_type": "code",
   "execution_count": 35,
   "metadata": {},
   "outputs": [],
   "source": [
    "from sklearn.preprocessing import MinMaxScaler\n",
    "\n",
    "sc = MinMaxScaler()\n",
    "X_train = sc.fit_transform(X_train)\n",
    "X_test = sc.transform(X_test)"
   ]
  },
  {
   "cell_type": "markdown",
   "metadata": {},
   "source": [
    "# Model Creation"
   ]
  },
  {
   "cell_type": "code",
   "execution_count": 36,
   "metadata": {},
   "outputs": [],
   "source": [
    "# import all the model classes from their respective classes and create an object for each\n",
    "\n",
    "from sklearn.linear_model import LogisticRegression\n",
    "model1 = LogisticRegression()\n",
    "\n",
    "from sklearn.svm import SVC\n",
    "model2 = SVC()\n",
    "\n",
    "from sklearn.neighbors import KNeighborsClassifier\n",
    "#model3 = KNeighborsClassifier()\n",
    "\n",
    "from sklearn.tree import DecisionTreeClassifier\n",
    "model4 = DecisionTreeClassifier()\n",
    "\n",
    "from sklearn.ensemble import RandomForestClassifier\n",
    "model5 = RandomForestClassifier()\n",
    "\n",
    "from xgboost import XGBClassifier\n",
    "model6 = XGBClassifier()"
   ]
  },
  {
   "cell_type": "markdown",
   "metadata": {},
   "source": [
    "# For SVC"
   ]
  },
  {
   "cell_type": "code",
   "execution_count": 37,
   "metadata": {},
   "outputs": [
    {
     "name": "stdout",
     "output_type": "stream",
     "text": [
      "Fitting 5 folds for each of 5 candidates, totalling 25 fits\n"
     ]
    },
    {
     "name": "stderr",
     "output_type": "stream",
     "text": [
      "[Parallel(n_jobs=-1)]: Using backend LokyBackend with 8 concurrent workers.\n",
      "[Parallel(n_jobs=-1)]: Done  19 out of  25 | elapsed:    5.5s remaining:    1.7s\n",
      "[Parallel(n_jobs=-1)]: Done  25 out of  25 | elapsed:    5.6s finished\n",
      "C:\\Users\\AMANJEET PANI\\Anaconda3\\lib\\site-packages\\sklearn\\model_selection\\_search.py:814: DeprecationWarning: The default of the `iid` parameter will change from True to False in version 0.22 and will be removed in 0.24. This will change numeric results when test-set sizes are unequal.\n",
      "  DeprecationWarning)\n"
     ]
    },
    {
     "data": {
      "text/plain": [
       "RandomizedSearchCV(cv=5, error_score='raise-deprecating',\n",
       "                   estimator=SVC(C=1.0, cache_size=200, class_weight=None,\n",
       "                                 coef0=0.0, decision_function_shape='ovr',\n",
       "                                 degree=3, gamma='auto_deprecated',\n",
       "                                 kernel='rbf', max_iter=-1, probability=False,\n",
       "                                 random_state=None, shrinking=True, tol=0.001,\n",
       "                                 verbose=False),\n",
       "                   iid='warn', n_iter=5, n_jobs=-1,\n",
       "                   param_distributions={'C': [0.1, 1, 10, 100, 1000],\n",
       "                                        'gamma': [1, 0.1, 0.01, 0.001, 0.0001],\n",
       "                                        'kernel': ['rbf']},\n",
       "                   pre_dispatch='2*n_jobs', random_state=None, refit=True,\n",
       "                   return_train_score=False, scoring='roc_auc', verbose=3)"
      ]
     },
     "execution_count": 37,
     "metadata": {},
     "output_type": "execute_result"
    }
   ],
   "source": [
    "from sklearn.model_selection import RandomizedSearchCV\n",
    "\n",
    "params2 = {'C': [0.1, 1, 10, 100, 1000],  \n",
    "           'gamma': [1, 0.1, 0.01, 0.001, 0.0001], \n",
    "           'kernel': ['rbf']}\n",
    "r_search2 = RandomizedSearchCV(model2, param_distributions = params2, n_iter = 5,\n",
    "                                   scoring = 'roc_auc', n_jobs = -1, cv = 5, verbose = 3)\n",
    "r_search2.fit(X_train, y_train)"
   ]
  },
  {
   "cell_type": "code",
   "execution_count": 38,
   "metadata": {},
   "outputs": [
    {
     "data": {
      "text/plain": [
       "{'kernel': 'rbf', 'gamma': 0.0001, 'C': 1000}"
      ]
     },
     "execution_count": 38,
     "metadata": {},
     "output_type": "execute_result"
    }
   ],
   "source": [
    "r_search2.best_params_"
   ]
  },
  {
   "cell_type": "code",
   "execution_count": 39,
   "metadata": {},
   "outputs": [
    {
     "data": {
      "text/plain": [
       "SVC(C=1000, cache_size=200, class_weight=None, coef0=0.0,\n",
       "    decision_function_shape='ovr', degree=3, gamma=0.0001, kernel='rbf',\n",
       "    max_iter=-1, probability=False, random_state=None, shrinking=True,\n",
       "    tol=0.001, verbose=False)"
      ]
     },
     "execution_count": 39,
     "metadata": {},
     "output_type": "execute_result"
    }
   ],
   "source": [
    "r_search2.best_estimator_"
   ]
  },
  {
   "cell_type": "code",
   "execution_count": 40,
   "metadata": {},
   "outputs": [],
   "source": [
    "model2 = SVC(C=10, cache_size=200, class_weight=None, coef0=0.0,\n",
    "            decision_function_shape='ovr', degree=3, gamma=0.001, kernel='rbf',\n",
    "            max_iter=-1, probability=False, random_state=None, shrinking=True,\n",
    "            tol=0.001, verbose=False)"
   ]
  },
  {
   "cell_type": "markdown",
   "metadata": {},
   "source": [
    "# For KNN"
   ]
  },
  {
   "cell_type": "code",
   "execution_count": 41,
   "metadata": {},
   "outputs": [],
   "source": [
    "losses = []\n",
    "\n",
    "for i in range(1,40):\n",
    "    \n",
    "    knn = KNeighborsClassifier(n_neighbors=i)\n",
    "    knn.fit(X_train,y_train)\n",
    "    ith_pred = knn.predict(X_test)\n",
    "    losses.append(np.mean(ith_pred != y_test))"
   ]
  },
  {
   "cell_type": "code",
   "execution_count": 42,
   "metadata": {},
   "outputs": [
    {
     "data": {
      "text/plain": [
       "Text(0, 0.5, 'Losses')"
      ]
     },
     "execution_count": 42,
     "metadata": {},
     "output_type": "execute_result"
    },
    {
     "data": {
      "image/png": "[encoded data removed]",
      "text/plain": [
       "<Figure size 720x432 with 1 Axes>"
      ]
     },
     "metadata": {
      "needs_background": "light"
     },
     "output_type": "display_data"
    }
   ],
   "source": [
    "plt.figure(figsize=(10,6))\n",
    "plt.plot(range(1,40), losses, color = 'blue', marker='o', markerfacecolor = 'red', markersize = 5)\n",
    "plt.xlabel('K-value')\n",
    "plt.ylabel('Losses')"
   ]
  },
  {
   "cell_type": "code",
   "execution_count": 55,
   "metadata": {},
   "outputs": [],
   "source": [
    "model3 = KNeighborsClassifier(n_neighbors = 14)"
   ]
  },
  {
   "cell_type": "markdown",
   "metadata": {},
   "source": [
    "# For RandomForest"
   ]
  },
  {
   "cell_type": "code",
   "execution_count": 44,
   "metadata": {},
   "outputs": [
    {
     "name": "stdout",
     "output_type": "stream",
     "text": [
      "Fitting 5 folds for each of 5 candidates, totalling 25 fits\n"
     ]
    },
    {
     "name": "stderr",
     "output_type": "stream",
     "text": [
      "[Parallel(n_jobs=-1)]: Using backend LokyBackend with 8 concurrent workers.\n",
      "[Parallel(n_jobs=-1)]: Done  19 out of  25 | elapsed:   10.4s remaining:    3.2s\n",
      "[Parallel(n_jobs=-1)]: Done  25 out of  25 | elapsed:   13.1s finished\n",
      "C:\\Users\\AMANJEET PANI\\Anaconda3\\lib\\site-packages\\sklearn\\model_selection\\_search.py:814: DeprecationWarning: The default of the `iid` parameter will change from True to False in version 0.22 and will be removed in 0.24. This will change numeric results when test-set sizes are unequal.\n",
      "  DeprecationWarning)\n"
     ]
    },
    {
     "data": {
      "text/plain": [
       "RandomizedSearchCV(cv=5, error_score='raise-deprecating',\n",
       "                   estimator=RandomForestClassifier(bootstrap=True,\n",
       "                                                    class_weight=None,\n",
       "                                                    criterion='gini',\n",
       "                                                    max_depth=None,\n",
       "                                                    max_features='auto',\n",
       "                                                    max_leaf_nodes=None,\n",
       "                                                    min_impurity_decrease=0.0,\n",
       "                                                    min_impurity_split=None,\n",
       "                                                    min_samples_leaf=1,\n",
       "                                                    min_samples_split=2,\n",
       "                                                    min_weight_fraction_leaf=0.0,\n",
       "                                                    n_estimators='warn',\n",
       "                                                    n_jobs=None,\n",
       "                                                    oob_sc...\n",
       "                   iid='warn', n_iter=5, n_jobs=-1,\n",
       "                   param_distributions={'max_depth': [10, 20, 30, 40, 50, 60,\n",
       "                                                      70, 80, 90, 100, None],\n",
       "                                        'max_features': ['auto', 'sqrt'],\n",
       "                                        'min_samples_leaf': [1, 2, 4],\n",
       "                                        'min_samples_split': [2, 5, 10],\n",
       "                                        'n_estimators': [200, 400, 600, 800,\n",
       "                                                         1000, 1200, 1400, 1600,\n",
       "                                                         1800, 2000]},\n",
       "                   pre_dispatch='2*n_jobs', random_state=None, refit=True,\n",
       "                   return_train_score=False, scoring='roc_auc', verbose=3)"
      ]
     },
     "execution_count": 44,
     "metadata": {},
     "output_type": "execute_result"
    }
   ],
   "source": [
    "params5 = {'max_depth': [10, 20, 30, 40, 50, 60, 70, 80, 90, 100, None],\n",
    "           'max_features': ['auto', 'sqrt'],\n",
    "           'min_samples_leaf': [1, 2, 4],\n",
    "           'min_samples_split': [2, 5, 10],\n",
    "           'n_estimators': [200, 400, 600, 800, 1000, 1200, 1400, 1600, 1800, 2000]}\n",
    "r_search5 = RandomizedSearchCV(model5, param_distributions = params5, n_iter = 5,\n",
    "                                   scoring = 'roc_auc', n_jobs = -1, cv = 5, verbose = 3)\n",
    "r_search5.fit(X_train, y_train)"
   ]
  },
  {
   "cell_type": "code",
   "execution_count": 45,
   "metadata": {},
   "outputs": [
    {
     "data": {
      "text/plain": [
       "{'n_estimators': 1800,\n",
       " 'min_samples_split': 10,\n",
       " 'min_samples_leaf': 2,\n",
       " 'max_features': 'sqrt',\n",
       " 'max_depth': 60}"
      ]
     },
     "execution_count": 45,
     "metadata": {},
     "output_type": "execute_result"
    }
   ],
   "source": [
    "r_search5.best_params_"
   ]
  },
  {
   "cell_type": "code",
   "execution_count": 46,
   "metadata": {},
   "outputs": [
    {
     "data": {
      "text/plain": [
       "RandomForestClassifier(bootstrap=True, class_weight=None, criterion='gini',\n",
       "                       max_depth=60, max_features='sqrt', max_leaf_nodes=None,\n",
       "                       min_impurity_decrease=0.0, min_impurity_split=None,\n",
       "                       min_samples_leaf=2, min_samples_split=10,\n",
       "                       min_weight_fraction_leaf=0.0, n_estimators=1800,\n",
       "                       n_jobs=None, oob_score=False, random_state=None,\n",
       "                       verbose=0, warm_start=False)"
      ]
     },
     "execution_count": 46,
     "metadata": {},
     "output_type": "execute_result"
    }
   ],
   "source": [
    "r_search5.best_estimator_"
   ]
  },
  {
   "cell_type": "code",
   "execution_count": 47,
   "metadata": {},
   "outputs": [],
   "source": [
    "model5 = RandomForestClassifier(bootstrap=True, class_weight=None, criterion='gini',\n",
    "                                max_depth=60, max_features='sqrt', max_leaf_nodes=None,\n",
    "                                min_impurity_decrease=0.0, min_impurity_split=None,\n",
    "                                min_samples_leaf=4, min_samples_split=10,\n",
    "                                min_weight_fraction_leaf=0.0, n_estimators=800,\n",
    "                                n_jobs=None, oob_score=False, random_state=None,\n",
    "                                verbose=0, warm_start=False)"
   ]
  },
  {
   "cell_type": "markdown",
   "metadata": {},
   "source": [
    "# For XGBoost"
   ]
  },
  {
   "cell_type": "code",
   "execution_count": 48,
   "metadata": {},
   "outputs": [
    {
     "name": "stdout",
     "output_type": "stream",
     "text": [
      "Fitting 5 folds for each of 5 candidates, totalling 25 fits\n"
     ]
    },
    {
     "name": "stderr",
     "output_type": "stream",
     "text": [
      "[Parallel(n_jobs=-1)]: Using backend LokyBackend with 8 concurrent workers.\n",
      "[Parallel(n_jobs=-1)]: Done  19 out of  25 | elapsed:    2.9s remaining:    0.9s\n",
      "[Parallel(n_jobs=-1)]: Done  25 out of  25 | elapsed:    2.9s finished\n",
      "C:\\Users\\AMANJEET PANI\\Anaconda3\\lib\\site-packages\\sklearn\\model_selection\\_search.py:814: DeprecationWarning: The default of the `iid` parameter will change from True to False in version 0.22 and will be removed in 0.24. This will change numeric results when test-set sizes are unequal.\n",
      "  DeprecationWarning)\n"
     ]
    },
    {
     "data": {
      "text/plain": [
       "RandomizedSearchCV(cv=5, error_score='raise-deprecating',\n",
       "                   estimator=XGBClassifier(base_score=None, booster=None,\n",
       "                                           colsample_bylevel=None,\n",
       "                                           colsample_bynode=None,\n",
       "                                           colsample_bytree=None, gamma=None,\n",
       "                                           gpu_id=None, importance_type='gain',\n",
       "                                           interaction_constraints=None,\n",
       "                                           learning_rate=None,\n",
       "                                           max_delta_step=None, max_depth=None,\n",
       "                                           min_child_weight=None, missing=nan,\n",
       "                                           monotone_co...\n",
       "                   iid='warn', n_iter=5, n_jobs=-1,\n",
       "                   param_distributions={'colsample_bylevel': [0.5, 0.7, 0.9, 1],\n",
       "                                        'colsample_bytree': [0.3, 0.4, 0.5,\n",
       "                                                             0.7],\n",
       "                                        'gamma': [0.0, 0.1, 0.2, 0.3, 0.4],\n",
       "                                        'learning_rate': [0.05, 0.1, 0.15, 0.2,\n",
       "                                                          0.25, 0.3],\n",
       "                                        'max_depth': [3, 4, 5, 6, 8, 10],\n",
       "                                        'min_child_weight': [1, 3, 5, 7]},\n",
       "                   pre_dispatch='2*n_jobs', random_state=None, refit=True,\n",
       "                   return_train_score=False, scoring='roc_auc', verbose=3)"
      ]
     },
     "execution_count": 48,
     "metadata": {},
     "output_type": "execute_result"
    }
   ],
   "source": [
    "params6 = {\"learning_rate\" : [0.05, 0.10, 0.15, 0.20, 0.25, 0.30 ] ,\n",
    "          \"max_depth\" : [ 3, 4, 5, 6, 8, 10 ],\n",
    "          \"min_child_weight\" : [ 1, 3, 5, 7 ],\n",
    "          \"gamma\" : [ 0.0, 0.1, 0.2 , 0.3, 0.4 ],\n",
    "          \"colsample_bytree\" : [ 0.3, 0.4, 0.5 , 0.7 ],\n",
    "          \"colsample_bylevel\" : [ 0.5, 0.7, 0.9, 1 ]}\n",
    "r_search6 = RandomizedSearchCV(model6, param_distributions = params6, n_iter = 5,\n",
    "                                   scoring = 'roc_auc', n_jobs = -1, cv = 5, verbose = 3)\n",
    "r_search6.fit(X_train, y_train)"
   ]
  },
  {
   "cell_type": "code",
   "execution_count": 49,
   "metadata": {},
   "outputs": [
    {
     "data": {
      "text/plain": [
       "{'min_child_weight': 5,\n",
       " 'max_depth': 8,\n",
       " 'learning_rate': 0.2,\n",
       " 'gamma': 0.4,\n",
       " 'colsample_bytree': 0.3,\n",
       " 'colsample_bylevel': 0.5}"
      ]
     },
     "execution_count": 49,
     "metadata": {},
     "output_type": "execute_result"
    }
   ],
   "source": [
    "r_search6.best_params_"
   ]
  },
  {
   "cell_type": "code",
   "execution_count": 50,
   "metadata": {},
   "outputs": [
    {
     "data": {
      "text/plain": [
       "XGBClassifier(base_score=0.5, booster='gbtree', colsample_bylevel=0.5,\n",
       "              colsample_bynode=1, colsample_bytree=0.3, gamma=0.4, gpu_id=-1,\n",
       "              importance_type='gain', interaction_constraints='',\n",
       "              learning_rate=0.2, max_delta_step=0, max_depth=8,\n",
       "              min_child_weight=5, missing=nan, monotone_constraints='()',\n",
       "              n_estimators=100, n_jobs=0, num_parallel_tree=1,\n",
       "              objective='binary:logistic', random_state=0, reg_alpha=0,\n",
       "              reg_lambda=1, scale_pos_weight=1, subsample=1,\n",
       "              tree_method='exact', validate_parameters=1, verbosity=None)"
      ]
     },
     "execution_count": 50,
     "metadata": {},
     "output_type": "execute_result"
    }
   ],
   "source": [
    "r_search6.best_estimator_"
   ]
  },
  {
   "cell_type": "code",
   "execution_count": 51,
   "metadata": {},
   "outputs": [],
   "source": [
    "model6 = XGBClassifier(base_score=0.5, booster='gbtree', colsample_bylevel=0.9,\n",
    "                          colsample_bynode=1, colsample_bytree=0.4, gamma=0.3, gpu_id=-1,\n",
    "                          importance_type='gain', interaction_constraints='',\n",
    "                          learning_rate=0.05, max_delta_step=0, max_depth=5,\n",
    "                          min_child_weight=7, missing=np.nan, monotone_constraints='()',\n",
    "                          n_estimators=100, n_jobs=0, num_parallel_tree=1,\n",
    "                          objective='binary:logistic', random_state=0, reg_alpha=0,\n",
    "                          reg_lambda=1, scale_pos_weight=1, subsample=1,\n",
    "                          tree_method='exact', validate_parameters=1, verbosity=None)"
   ]
  },
  {
   "cell_type": "code",
   "execution_count": 52,
   "metadata": {},
   "outputs": [],
   "source": [
    "models = [model1, model2, model3, model4, model5, model6]"
   ]
  },
  {
   "cell_type": "code",
   "execution_count": 53,
   "metadata": {},
   "outputs": [],
   "source": [
    "# for calculating the accuracy and f1_score for each model\n",
    "\n",
    "from sklearn.metrics import accuracy_score"
   ]
  },
  {
   "cell_type": "code",
   "execution_count": 56,
   "metadata": {},
   "outputs": [
    {
     "name": "stderr",
     "output_type": "stream",
     "text": [
      "C:\\Users\\AMANJEET PANI\\Anaconda3\\lib\\site-packages\\sklearn\\linear_model\\logistic.py:432: FutureWarning: Default solver will be changed to 'lbfgs' in 0.22. Specify a solver to silence this warning.\n",
      "  FutureWarning)\n"
     ]
    },
    {
     "name": "stdout",
     "output_type": "stream",
     "text": [
      "ACCURACY SCORE for model1 = 82.517483 percent\n",
      "ACCURACY SCORE for model2 = 76.223776 percent\n",
      "ACCURACY SCORE for model3 = 80.419580 percent\n",
      "ACCURACY SCORE for model4 = 66.433566 percent\n",
      "ACCURACY SCORE for model5 = 83.916084 percent\n",
      "ACCURACY SCORE for model6 = 83.916084 percent\n"
     ]
    }
   ],
   "source": [
    "# loop through each model\n",
    "\n",
    "i = 1\n",
    "for model in models :\n",
    "    # fit the train sets\n",
    "    model.fit(X_train, y_train)\n",
    "    \n",
    "    # predict the target column for the test set\n",
    "    y_pred = model.predict(X_test)\n",
    "    \n",
    "    # calculate the accuracy obtained\n",
    "    print(\"ACCURACY SCORE for model%d = %f percent\" %(i ,accuracy_score(y_test, y_pred)*100))\n",
    "    i +=1"
   ]
  },
  {
   "cell_type": "markdown",
   "metadata": {},
   "source": [
    "# New Prediction for the Test Dataset File"
   ]
  },
  {
   "cell_type": "code",
   "execution_count": 61,
   "metadata": {},
   "outputs": [],
   "source": [
    "# make similar changes for the test set (which we have already did in terms of df_test)\n",
    "# scale the test set and predict the target column with model6, i.e., XGBoost Classifier which gave the maximum accuracy\n",
    "\n",
    "df_test = sc.transform(df_test)\n",
    "test_pred = model6.predict(df_test)"
   ]
  },
  {
   "cell_type": "code",
   "execution_count": 62,
   "metadata": {},
   "outputs": [],
   "source": [
    "# replace 1 with Y and 0 with N to match the format of the test dataset file\n",
    "\n",
    "CPL_Status = [\"\" for x in range(len(test_pred))]\n",
    "for i in range(len(test_pred)) :\n",
    "    if test_pred[i] == 1 :\n",
    "        CPL_Status[i] = 'Y'\n",
    "    else :\n",
    "        CPL_Status[i] = 'N'"
   ]
  },
  {
   "cell_type": "code",
   "execution_count": 63,
   "metadata": {},
   "outputs": [],
   "source": [
    "# to make changes in the original test dataset file\n",
    "\n",
    "test_data = pd.read_excel('Project - 4 - Test Data.xlsx')\n",
    "\n",
    "# we just need to handle the missing values in our test dataset to maintain similar shape of dataset and the predicted column\n",
    "test_data = test_data.dropna(subset = ['Sex', 'Dependents', 'CPL_Term'])\n",
    "test_data['SE'] = test_data['SE'].fillna(method = 'ffill', axis = 0)\n",
    "test_data = fill_missing_values(test_data)\n",
    "\n",
    "# now create a column and add the model predictions\n",
    "test_data['CPL_Status'] = CPL_Status"
   ]
  },
  {
   "cell_type": "code",
   "execution_count": 64,
   "metadata": {},
   "outputs": [
    {
     "data": {
      "text/html": [
       "<div>\n",
       "<style scoped>\n",
       "    .dataframe tbody tr th:only-of-type {\n",
       "        vertical-align: middle;\n",
       "    }\n",
       "\n",
       "    .dataframe tbody tr th {\n",
       "        vertical-align: top;\n",
       "    }\n",
       "\n",
       "    .dataframe thead th {\n",
       "        text-align: right;\n",
       "    }\n",
       "</style>\n",
       "<table border=\"1\" class=\"dataframe\">\n",
       "  <thead>\n",
       "    <tr style=\"text-align: right;\">\n",
       "      <th></th>\n",
       "      <th>Loanapp_ID</th>\n",
       "      <th>Sex</th>\n",
       "      <th>Marital_Status</th>\n",
       "      <th>first_name</th>\n",
       "      <th>last_name</th>\n",
       "      <th>email</th>\n",
       "      <th>address</th>\n",
       "      <th>Dependents</th>\n",
       "      <th>Qual_var</th>\n",
       "      <th>SE</th>\n",
       "      <th>App_Income_1</th>\n",
       "      <th>App_Income_2</th>\n",
       "      <th>CPL_Amount</th>\n",
       "      <th>CPL_Term</th>\n",
       "      <th>Credit_His</th>\n",
       "      <th>INT_ID</th>\n",
       "      <th>Prev_ID</th>\n",
       "      <th>AGT_ID</th>\n",
       "      <th>Prop_Area</th>\n",
       "      <th>CPL_Status</th>\n",
       "    </tr>\n",
       "  </thead>\n",
       "  <tbody>\n",
       "    <tr>\n",
       "      <td>0</td>\n",
       "      <td>CPL001015</td>\n",
       "      <td>M</td>\n",
       "      <td>Y</td>\n",
       "      <td>Dollie</td>\n",
       "      <td>Scafe</td>\n",
       "      <td>dscafe0@is.gd</td>\n",
       "      <td>02 Garrison Pass</td>\n",
       "      <td>0</td>\n",
       "      <td>Grad</td>\n",
       "      <td>N</td>\n",
       "      <td>6864.0</td>\n",
       "      <td>0.0</td>\n",
       "      <td>132.0</td>\n",
       "      <td>360.0</td>\n",
       "      <td>1.0</td>\n",
       "      <td>6869736235</td>\n",
       "      <td>79-489-1539</td>\n",
       "      <td>Mozilla/5.0 (Macintosh; U; Intel Mac OS X 10_6...</td>\n",
       "      <td>Urban</td>\n",
       "      <td>Y</td>\n",
       "    </tr>\n",
       "    <tr>\n",
       "      <td>1</td>\n",
       "      <td>CPL001022</td>\n",
       "      <td>M</td>\n",
       "      <td>Y</td>\n",
       "      <td>Kim</td>\n",
       "      <td>Arne</td>\n",
       "      <td>karne9@infoseek.co.jp</td>\n",
       "      <td>6568 Dwight Point</td>\n",
       "      <td>1</td>\n",
       "      <td>Grad</td>\n",
       "      <td>N</td>\n",
       "      <td>3691.2</td>\n",
       "      <td>1800.0</td>\n",
       "      <td>151.2</td>\n",
       "      <td>360.0</td>\n",
       "      <td>1.0</td>\n",
       "      <td>3383749711</td>\n",
       "      <td>75-757-9174</td>\n",
       "      <td>Mozilla/5.0 (Macintosh; Intel Mac OS X 10_7_2)...</td>\n",
       "      <td>Urban</td>\n",
       "      <td>Y</td>\n",
       "    </tr>\n",
       "    <tr>\n",
       "      <td>2</td>\n",
       "      <td>CPL001031</td>\n",
       "      <td>M</td>\n",
       "      <td>Y</td>\n",
       "      <td>Niccolo</td>\n",
       "      <td>Ramble</td>\n",
       "      <td>nramblef@gov.uk</td>\n",
       "      <td>3504 Lukken Park</td>\n",
       "      <td>2</td>\n",
       "      <td>Grad</td>\n",
       "      <td>N</td>\n",
       "      <td>6000.0</td>\n",
       "      <td>2160.0</td>\n",
       "      <td>249.6</td>\n",
       "      <td>360.0</td>\n",
       "      <td>1.0</td>\n",
       "      <td>7247894032</td>\n",
       "      <td>42-085-4345</td>\n",
       "      <td>Mozilla/5.0 (Windows NT 6.1; WOW64) AppleWebKi...</td>\n",
       "      <td>Urban</td>\n",
       "      <td>Y</td>\n",
       "    </tr>\n",
       "    <tr>\n",
       "      <td>3</td>\n",
       "      <td>CPL001035</td>\n",
       "      <td>M</td>\n",
       "      <td>Y</td>\n",
       "      <td>Rabbi</td>\n",
       "      <td>Haig</td>\n",
       "      <td>rhaigg@tiny.cc</td>\n",
       "      <td>1334 Florence Way</td>\n",
       "      <td>2</td>\n",
       "      <td>Grad</td>\n",
       "      <td>N</td>\n",
       "      <td>2808.0</td>\n",
       "      <td>3055.2</td>\n",
       "      <td>120.0</td>\n",
       "      <td>360.0</td>\n",
       "      <td>1.0</td>\n",
       "      <td>3240492342</td>\n",
       "      <td>10-813-9695</td>\n",
       "      <td>Mozilla/5.0 (X11; Linux i686) AppleWebKit/534....</td>\n",
       "      <td>Urban</td>\n",
       "      <td>Y</td>\n",
       "    </tr>\n",
       "    <tr>\n",
       "      <td>4</td>\n",
       "      <td>CPL001051</td>\n",
       "      <td>M</td>\n",
       "      <td>N</td>\n",
       "      <td>Gracie</td>\n",
       "      <td>Winear</td>\n",
       "      <td>gwinearj@devhub.com</td>\n",
       "      <td>9800 Ridge Oak Crossing</td>\n",
       "      <td>0</td>\n",
       "      <td>Non Grad</td>\n",
       "      <td>N</td>\n",
       "      <td>3931.2</td>\n",
       "      <td>0.0</td>\n",
       "      <td>93.6</td>\n",
       "      <td>360.0</td>\n",
       "      <td>1.0</td>\n",
       "      <td>1670564037</td>\n",
       "      <td>20-195-4948</td>\n",
       "      <td>Mozilla/5.0 (Windows NT 6.0) AppleWebKit/534.2...</td>\n",
       "      <td>Urban</td>\n",
       "      <td>N</td>\n",
       "    </tr>\n",
       "  </tbody>\n",
       "</table>\n",
       "</div>"
      ],
      "text/plain": [
       "  Loanapp_ID Sex Marital_Status first_name last_name                  email  \\\n",
       "0  CPL001015   M              Y     Dollie     Scafe          dscafe0@is.gd   \n",
       "1  CPL001022   M              Y        Kim      Arne  karne9@infoseek.co.jp   \n",
       "2  CPL001031   M              Y    Niccolo    Ramble        nramblef@gov.uk   \n",
       "3  CPL001035   M              Y      Rabbi      Haig         rhaigg@tiny.cc   \n",
       "4  CPL001051   M              N     Gracie    Winear    gwinearj@devhub.com   \n",
       "\n",
       "                   address Dependents  Qual_var SE  App_Income_1  \\\n",
       "0         02 Garrison Pass          0      Grad  N        6864.0   \n",
       "1        6568 Dwight Point          1      Grad  N        3691.2   \n",
       "2         3504 Lukken Park          2      Grad  N        6000.0   \n",
       "3        1334 Florence Way          2      Grad  N        2808.0   \n",
       "4  9800 Ridge Oak Crossing          0  Non Grad  N        3931.2   \n",
       "\n",
       "   App_Income_2  CPL_Amount  CPL_Term  Credit_His      INT_ID      Prev_ID  \\\n",
       "0           0.0       132.0     360.0         1.0  6869736235  79-489-1539   \n",
       "1        1800.0       151.2     360.0         1.0  3383749711  75-757-9174   \n",
       "2        2160.0       249.6     360.0         1.0  7247894032  42-085-4345   \n",
       "3        3055.2       120.0     360.0         1.0  3240492342  10-813-9695   \n",
       "4           0.0        93.6     360.0         1.0  1670564037  20-195-4948   \n",
       "\n",
       "                                              AGT_ID Prop_Area CPL_Status  \n",
       "0  Mozilla/5.0 (Macintosh; U; Intel Mac OS X 10_6...     Urban          Y  \n",
       "1  Mozilla/5.0 (Macintosh; Intel Mac OS X 10_7_2)...     Urban          Y  \n",
       "2  Mozilla/5.0 (Windows NT 6.1; WOW64) AppleWebKi...     Urban          Y  \n",
       "3  Mozilla/5.0 (X11; Linux i686) AppleWebKit/534....     Urban          Y  \n",
       "4  Mozilla/5.0 (Windows NT 6.0) AppleWebKit/534.2...     Urban          N  "
      ]
     },
     "execution_count": 64,
     "metadata": {},
     "output_type": "execute_result"
    }
   ],
   "source": [
    "test_data.head()"
   ]
  },
  {
   "cell_type": "code",
   "execution_count": null,
   "metadata": {},
   "outputs": [],
   "source": []
  }
 ],
 "metadata": {
  "kernelspec": {
   "display_name": "Python 3",
   "language": "python",
   "name": "python3"
  },
  "language_info": {
   "codemirror_mode": {
    "name": "ipython",
    "version": 3
   },
   "file_extension": ".py",
   "mimetype": "text/x-python",
   "name": "python",
   "nbconvert_exporter": "python",
   "pygments_lexer": "ipython3",
   "version": "3.7.4"
  }
 },
 "nbformat": 4,
 "nbformat_minor": 2
}
